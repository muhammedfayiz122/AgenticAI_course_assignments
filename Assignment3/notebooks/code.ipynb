{
 "cells": [
  {
   "cell_type": "code",
   "execution_count": 2,
   "id": "be0a5ea5",
   "metadata": {},
   "outputs": [
    {
     "data": {
      "text/plain": [
       "'\\nparameters:\\n    glob=\"**/*.md\",                # Pattern to match Markdown files in all subdirectories\\n    show_progress=True,            # Display a progress bar while loading files\\n    use_multithreading=True,       # Enable multithreading for faster loading\\n    recursive=True,                # Recursively search subdirectories\\n    silent_errors=False,           # Suppress errors during loading\\n    loader_cls=TextLoader,         # Custom loader class for files\\n    loader_cls=PythonLoader\\n    loader_kwargs=None             # Additional kwargs for the loader class\\n    loader_kwargs=text_loader_kwargs\\n'"
      ]
     },
     "execution_count": 2,
     "metadata": {},
     "output_type": "execute_result"
    }
   ],
   "source": [
    "#Document Loader = directory_loader()\n",
    "\n",
    "# Parameters for directory_loader:\n",
    "#   glob: str = \"**/*.md\"           # Pattern to match Markdown files in all subdirectories\n",
    "#   show_progress: bool = True      # Display a progress bar while loading files\n",
    "#   use_multithreading: bool = True # Enable multithreading for faster loading\n",
    "#   recursive: bool = True          # Recursively search subdirectories\n",
    "#   silent_errors: bool = False     # Suppress errors during loading\n",
    "#   loader_cls: Optional[Type] = None # Custom loader class for files\n",
    "#   loader_kwargs: Optional[dict] = None # Additional kwargs for the loader class\n",
    "\n",
    "\"\"\"\n",
    "parameters:\n",
    "    glob=\"**/*.md\",                # Pattern to match Markdown files in all subdirectories\n",
    "    show_progress=True,            # Display a progress bar while loading files\n",
    "    use_multithreading=True,       # Enable multithreading for faster loading\n",
    "    recursive=True,                # Recursively search subdirectories\n",
    "    silent_errors=False,           # Suppress errors during loading\n",
    "    loader_cls=TextLoader,         # Custom loader class for files\n",
    "    loader_cls=PythonLoader\n",
    "    loader_kwargs=None             # Additional kwargs for the loader class\n",
    "    loader_kwargs=text_loader_kwargs\n",
    "\"\"\"\n"
   ]
  },
  {
   "cell_type": "code",
   "execution_count": null,
   "id": "37cadd5f",
   "metadata": {},
   "outputs": [],
   "source": []
  },
  {
   "cell_type": "markdown",
   "id": "4dc327c7",
   "metadata": {},
   "source": [
    "#### Document Loading"
   ]
  },
  {
   "cell_type": "code",
   "execution_count": 3,
   "id": "867f6e26",
   "metadata": {},
   "outputs": [
    {
     "name": "stderr",
     "output_type": "stream",
     "text": [
      "100%|██████████| 1/1 [00:00<00:00, 24.99it/s]\n"
     ]
    },
    {
     "data": {
      "text/plain": [
       "[Document(metadata={'source': 'data\\\\usa.txt'}, page_content=\"🇺🇸 Overview of the U.S. Economy\\nThe United States of America possesses the largest economy in the world in terms of nominal GDP, making it the most powerful economic force globally. It operates under a capitalist mixed economy, where the private sector dominates, but the government plays a significant regulatory and fiscal role. With a population of over 335 million people and a high level of technological advancement, the U.S. economy thrives on a foundation of consumer spending, innovation, global trade, and financial services. It has a highly diversified structure with strong sectors in technology, healthcare, finance, real estate, defense, and agriculture.\\n\\nU.S. GDP – Size, Composition, and Global Share\\nAs of 2024, the United States’ nominal GDP is estimated to be around $28 trillion USD, accounting for approximately 25% of the global economy. It ranks #1 in the world by nominal GDP, far ahead of China (which ranks 2nd). The U.S. GDP per capita is also among the highest, hovering around $83,000, which indicates a high standard of living and productivity. In terms of Purchasing Power Parity (PPP), the U.S. ranks second, but nominal GDP is considered more reflective of actual economic size and financial influence.\\n\\nThe GDP is predominantly driven by the services sector, which contributes more than 77% to the total GDP. This includes industries such as finance, insurance, real estate, healthcare, education, and information technology. The industrial sector (manufacturing, construction, mining) makes up around 19%, while agriculture, although technologically advanced and export-oriented, contributes only about 1%. Despite its small share in GDP, U.S. agriculture is globally significant in terms of productivity and exports.\\n\\nGDP Growth Trends and Dynamics\\nHistorically, the U.S. economy has enjoyed consistent long-term growth, averaging around 2-3% annually. Post-pandemic, the economy bounced back strongly, but 2022 and 2023 saw rising inflation due to supply chain issues and stimulus-driven demand. In 2024, the U.S. GDP grew at a modest pace of around 2.1%, as the Federal Reserve’s interest rate hikes aimed at controlling inflation also moderated economic expansion. Consumer spending, which makes up nearly 70% of GDP, remains a dominant force in economic stability.\\n\\nThe U.S. maintains its GDP growth through strong innovation, entrepreneurship, and investment in R&D. With companies like Apple, Google, Amazon, Microsoft, and Tesla leading global markets, the U.S. consistently produces high value across sectors, especially in technology and advanced services. Additionally, the economy benefits from intellectual property exports, financial services, and higher education, all of which contribute significantly to GDP through both domestic and international markets.\\n\\nRole in the Global Economy\\nThe U.S. Dollar (USD) is the global reserve currency, held by over 60% of the world’s central bank reserves. This gives the U.S. an enormous advantage in global trade and borrowing. The U.S. is a key member of international institutions like the World Bank, IMF, G7, G20, and WTO, and plays a central role in setting global economic policy.\\n\\nAs a global innovation hub, the U.S. attracts billions in foreign investment and hosts many of the world's largest and most valuable companies. Its exports include high-tech machinery, aircraft, pharmaceuticals, semiconductors, and financial services, while its imports cover consumer goods, electronics, automobiles, and industrial materials. The trade deficit remains large (around $900 billion in 2024), primarily because the U.S. consumes more than it exports, but its ability to finance this through capital inflows and reserve currency status sustains balance.\\n\\nKey Economic Strengths\\nThe core strength of the U.S. economy lies in its flexible labor market, deep capital markets, technological superiority, and legal system that encourages innovation and property rights. It has a large, highly educated workforce, a diverse immigration pipeline, and access to vast natural resources including oil, gas, coal, and farmland. The presence of top-tier universities and research institutions fuels the knowledge economy, with billions spent annually on R&D—over $700 billion USD, more than any other country.\\n\\nThe U.S. leads in many critical sectors, including software, biotechnology, aerospace, defense, financial services, and media. Its startup ecosystem, especially in Silicon Valley, produces unicorns and tech giants at a scale unmatched globally. Its financial markets—particularly Wall Street—are the most liquid and globally integrated in the world.\\n\\nChallenges and Structural Issues\\nDespite its strength, the U.S. economy faces several serious long-term issues. The national debt has surpassed $34 trillion USD, raising concerns about fiscal sustainability, especially as interest payments alone are growing rapidly. The income and wealth inequality gap has widened, with a small percentage of Americans owning a disproportionate share of wealth. Access to affordable healthcare, housing shortages, and a declining labor force participation in some sectors are additional structural issues.\\n\\nAnother growing concern is political polarization, which often stalls crucial economic reforms and budget agreements, as seen in recurrent debt ceiling crises. The U.S. also faces challenges from global competition, especially from China in areas like AI, semiconductors, and green technology. Moreover, climate change, cybersecurity threats, and geopolitical risks (like Ukraine and Taiwan conflicts) add layers of vulnerability to economic planning.\\n\\nFuture Outlook (2025–2030)\\nLooking forward, the U.S. economy is expected to grow at a moderate pace, powered by innovation in AI, green energy, robotics, biotech, and quantum computing. The Biden administration’s Inflation Reduction Act and CHIPS Act are pumping massive investments into semiconductors, clean energy, and infrastructure. There is a strong push for reshoring of manufacturing, especially in critical sectors like chips, pharmaceuticals, and batteries.\\n\\nHowever, economic leadership will depend on managing the national debt, reforming entitlement programs, upgrading infrastructure, and ensuring the next generation is equipped with digital-age skills. If the U.S. can handle these challenges, it is well-positioned to remain a global economic powerhouse through 2030 and beyond.\\n\\nFinal Summary\\nThe U.S. economy remains the engine of global growth, backed by unmatched innovation, financial dominance, and a strong institutional framework. Its $28 trillion GDP and influence over global finance, trade, and technology make it the centerpiece of the modern economic system. Yet, rising debt, inequality, political gridlock, and competition from emerging powers demand careful policy navigation. If successfully addressed, the U.S. will continue to dominate the global economy well into the future.\")]"
      ]
     },
     "execution_count": 3,
     "metadata": {},
     "output_type": "execute_result"
    }
   ],
   "source": [
    "from langchain_community.document_loaders import DirectoryLoader, TextLoader\n",
    "def document_loader(path):\n",
    "    loader = DirectoryLoader(\n",
    "        path=\"data\",\n",
    "        glob=\"**/*.txt\",\n",
    "        show_progress=True,\n",
    "        use_multithreading=True,\n",
    "        silent_errors=True,\n",
    "        loader_cls=TextLoader\n",
    "    )\n",
    "    return loader.load()\n",
    "docs = document_loader(\"data\")\n",
    "docs"
   ]
  },
  {
   "cell_type": "markdown",
   "id": "a3bde10f",
   "metadata": {},
   "source": [
    "#### Splitter"
   ]
  },
  {
   "cell_type": "code",
   "execution_count": 4,
   "id": "6cbacf23",
   "metadata": {},
   "outputs": [],
   "source": [
    "from langchain_experimental.text_splitter import SemanticChunker\n",
    "def semantic_splitter(docs,embeddings):\n",
    "    splitter = SemanticChunker(\n",
    "        embeddings=embeddings,\n",
    "        )\n",
    "    splitted_docs = splitter.split_documents(docs)\n",
    "    return splitted_docs\n",
    "\n"
   ]
  },
  {
   "cell_type": "code",
   "execution_count": 5,
   "id": "da595968",
   "metadata": {},
   "outputs": [],
   "source": [
    "from langchain.text_splitter import RecursiveCharacterTextSplitter\n",
    "def semantic_splitter(docs):\n",
    "    splitter = RecursiveCharacterTextSplitter(\n",
    "        chunk_size=300,\n",
    "        chunk_overlap=50\n",
    "    )\n",
    "    splitted_docs = splitter.split_documents(docs)\n",
    "    return splitted_docs"
   ]
  },
  {
   "cell_type": "markdown",
   "id": "2b4876df",
   "metadata": {},
   "source": [
    "#### Embedding"
   ]
  },
  {
   "cell_type": "code",
   "execution_count": 6,
   "id": "e1ba5118",
   "metadata": {},
   "outputs": [],
   "source": [
    "from langchain_huggingface import HuggingFaceEmbeddings\n",
    "\n",
    "def hf_embeddings():\n",
    "    embedding = HuggingFaceEmbeddings(\n",
    "        model_name=\"intfloat/e5-large-v2\",\n",
    "        encode_kwargs={'normalize_embeddings': True}  # important for E5 model\n",
    "    )\n",
    "    return embedding\n",
    "# embeddings = hf_embeddings()"
   ]
  },
  {
   "cell_type": "code",
   "execution_count": 7,
   "id": "ee9e9632",
   "metadata": {},
   "outputs": [],
   "source": [
    "def split_docs(docs, embeddings):\n",
    "    splitted_docs = semantic_splitter(docs, embeddings)\n",
    "    return splitted_docs"
   ]
  },
  {
   "cell_type": "code",
   "execution_count": 8,
   "id": "907abc53",
   "metadata": {},
   "outputs": [],
   "source": [
    "# len(splitted_doc[6].page_content)\n",
    "# for i in splitted_docs:\n",
    "#     print(len(i.page_content))"
   ]
  },
  {
   "cell_type": "markdown",
   "id": "45539db7",
   "metadata": {},
   "source": [
    "#### Vector Store"
   ]
  },
  {
   "cell_type": "code",
   "execution_count": 9,
   "id": "e35bb033",
   "metadata": {},
   "outputs": [],
   "source": [
    "from langchain_community.vectorstores import Chroma\n",
    "def setup_vector_store(splitted_doc, embeddings):\n",
    "    vector_store = Chroma.from_documents(splitted_doc,embedding=embeddings)\n",
    "    return vector_store"
   ]
  },
  {
   "cell_type": "markdown",
   "id": "7e6a0488",
   "metadata": {},
   "source": [
    "#### Retrieval"
   ]
  },
  {
   "cell_type": "code",
   "execution_count": 10,
   "id": "a80d803b",
   "metadata": {},
   "outputs": [],
   "source": [
    "def configure_retriever(vector_store):\n",
    "    return vector_store.as_retriever(\n",
    "        search_type=\"similarity_score_threshold\",\n",
    "        search_kwargs={\n",
    "            \"k\":3,\n",
    "            \"score_threshold\":0.7\n",
    "        }\n",
    "    )"
   ]
  },
  {
   "cell_type": "markdown",
   "id": "620e0dec",
   "metadata": {},
   "source": [
    "#### LLM Part"
   ]
  },
  {
   "cell_type": "code",
   "execution_count": 11,
   "id": "202a2b98",
   "metadata": {},
   "outputs": [],
   "source": [
    "from langchain_core.prompts import PromptTemplate \n",
    "from langchain_core.output_parsers import StrOutputParser\n",
    "from langchain_google_genai import ChatGoogleGenerativeAI\n",
    "from langchain_core.runnables import RunnablePassthrough"
   ]
  },
  {
   "cell_type": "code",
   "execution_count": 12,
   "id": "cb1aec07",
   "metadata": {},
   "outputs": [],
   "source": [
    "def create_rag_chain(retriever):\n",
    "    # Prompt\n",
    "    template = \"\"\"You are an assistant tasked with answerign user query.\n",
    "    Use the following piece of retrived context to anser user queries.\n",
    "    if Context is non related to query ignore it.\n",
    "    If you dont know the answer , just say that you don't know.\n",
    "    keep the answer consise.\n",
    "    \\nQuestion: {question}\n",
    "    \\nContext: {context}\n",
    "    \"\"\"\n",
    "    prompt = PromptTemplate(\n",
    "        template=template,\n",
    "        input_variables=['context', 'question'],\n",
    "    )\n",
    "\n",
    "    # Model\n",
    "    model = ChatGoogleGenerativeAI(model=\"gemini-1.5-flash\")\n",
    "    # Output Parser\n",
    "    parser = StrOutputParser()\n",
    "\n",
    "    #chain\n",
    "    retrieval_chain = (\n",
    "        {\"context\" : retriever, \"question\": RunnablePassthrough()}\n",
    "        | prompt\n",
    "        | model\n",
    "        | parser\n",
    "    )\n",
    "    return retrieval_chain"
   ]
  },
  {
   "cell_type": "markdown",
   "id": "0297956a",
   "metadata": {},
   "source": [
    "#### Creating RAG"
   ]
  },
  {
   "cell_type": "code",
   "execution_count": 13,
   "id": "ede9e1c9",
   "metadata": {},
   "outputs": [],
   "source": [
    "def create_rag(path: str):\n",
    "    docs = document_loader(path)\n",
    "    embeddings = hf_embeddings()\n",
    "    splitted_docs = semantic_splitter(docs,embeddings)\n",
    "    vector_store = setup_vector_store(splitted_docs, embeddings)\n",
    "    retriever = configure_retriever(vector_store)\n",
    "    rag_chain = create_rag_chain(retriever)\n",
    "    return rag_chain\n"
   ]
  },
  {
   "cell_type": "code",
   "execution_count": 14,
   "id": "bf42d8ad",
   "metadata": {},
   "outputs": [
    {
     "name": "stderr",
     "output_type": "stream",
     "text": [
      "100%|██████████| 1/1 [00:00<00:00, 197.13it/s]\n"
     ]
    }
   ],
   "source": [
    "embeddings = hf_embeddings()\n",
    "docs = document_loader(\"data\")\n",
    "splitted_docs = semantic_splitter(docs)\n",
    "vector_store = setup_vector_store(splitted_docs, embeddings)\n",
    "retriever = configure_retriever(vector_store)\n",
    "rag_chain = create_rag_chain(retriever)\n",
    "\n",
    "# def load_rag():\n",
    "#     return rag_chain"
   ]
  },
  {
   "cell_type": "code",
   "execution_count": 15,
   "id": "0394ead6",
   "metadata": {},
   "outputs": [
    {
     "data": {
      "text/plain": [
       "[Document(metadata={'source': 'data\\\\usa.txt'}, page_content='🇺🇸 Overview of the U.S. Economy'),\n",
       " Document(metadata={'source': 'data\\\\usa.txt'}, page_content='U.S. GDP – Size, Composition, and Global Share'),\n",
       " Document(metadata={'source': 'data\\\\usa.txt'}, page_content='The United States of America possesses the largest economy in the world in terms of nominal GDP, making it the most powerful economic force globally. It operates under a capitalist mixed economy, where the private sector dominates, but the government plays a significant regulatory and fiscal role.')]"
      ]
     },
     "execution_count": 15,
     "metadata": {},
     "output_type": "execute_result"
    }
   ],
   "source": [
    "retriever.invoke(\"what is usa\")"
   ]
  },
  {
   "cell_type": "code",
   "execution_count": 16,
   "id": "1f971ca5",
   "metadata": {},
   "outputs": [
    {
     "data": {
      "text/plain": [
       "298"
      ]
     },
     "execution_count": 16,
     "metadata": {},
     "output_type": "execute_result"
    }
   ],
   "source": [
    "len(splitted_docs[1].page_content)"
   ]
  },
  {
   "cell_type": "code",
   "execution_count": 17,
   "id": "92182ac1",
   "metadata": {},
   "outputs": [
    {
     "name": "stderr",
     "output_type": "stream",
     "text": [
      "No relevant docs were retrieved using the relevance score threshold 0.7\n"
     ]
    },
    {
     "data": {
      "text/plain": [
       "\"I don't know.\""
      ]
     },
     "execution_count": 17,
     "metadata": {},
     "output_type": "execute_result"
    }
   ],
   "source": [
    "rag_chain.invoke(\"how to make json\")"
   ]
  },
  {
   "cell_type": "code",
   "execution_count": 18,
   "id": "83bc5123",
   "metadata": {},
   "outputs": [],
   "source": [
    "def load_rag():\n",
    "    return rag_chain"
   ]
  },
  {
   "cell_type": "code",
   "execution_count": 19,
   "id": "13cbca02",
   "metadata": {},
   "outputs": [
    {
     "name": "stderr",
     "output_type": "stream",
     "text": [
      "No relevant docs were retrieved using the relevance score threshold 0.7\n"
     ]
    },
    {
     "data": {
      "text/plain": [
       "\"I don't know.\""
      ]
     },
     "execution_count": 19,
     "metadata": {},
     "output_type": "execute_result"
    }
   ],
   "source": [
    "rag_chain.invoke(\"how to make json\")"
   ]
  },
  {
   "cell_type": "markdown",
   "id": "25231a27",
   "metadata": {},
   "source": [
    "### Creating prompt , model , parser for supervisor node"
   ]
  },
  {
   "cell_type": "markdown",
   "id": "4ff610bb",
   "metadata": {},
   "source": [
    "#### Parser"
   ]
  },
  {
   "cell_type": "code",
   "execution_count": 20,
   "id": "c8f4efba",
   "metadata": {},
   "outputs": [],
   "source": [
    "from pydantic import BaseModel, Field\n",
    "from langchain_core.output_parsers import PydanticOutputParser \n",
    "class PydanticParser(BaseModel):\n",
    "    classify: str=Field(description=\"Classified class\")\n",
    "parser = PydanticOutputParser(pydantic_object=PydanticParser)"
   ]
  },
  {
   "cell_type": "markdown",
   "id": "cca7f9c7",
   "metadata": {},
   "source": [
    "#### Model"
   ]
  },
  {
   "cell_type": "code",
   "execution_count": 21,
   "id": "aa0a666b",
   "metadata": {},
   "outputs": [],
   "source": [
    "from langchain_google_genai import ChatGoogleGenerativeAI\n",
    "model = ChatGoogleGenerativeAI(model=\"gemini-1.5-flash\")"
   ]
  },
  {
   "cell_type": "markdown",
   "id": "6e65cba3",
   "metadata": {},
   "source": [
    "#### prompt"
   ]
  },
  {
   "cell_type": "code",
   "execution_count": 22,
   "id": "262e718e",
   "metadata": {},
   "outputs": [],
   "source": [
    "from langchain_core.prompts import PromptTemplate\n",
    "template = \"\"\"You are an assistant tasked with classifying data into one of these classes:[related to computer programing,not related].\n",
    "Dont respond with anything other than from this two defined choices.\n",
    "User query: {question}\n",
    "\\n{format_instructions}\n",
    "\"\"\"\n",
    "prompt = PromptTemplate(\n",
    "    template=template,\n",
    "    input_variables=['question'],\n",
    "    partial_variables={'format_instructions': parser.get_format_instructions()}\n",
    "\n",
    ")"
   ]
  },
  {
   "cell_type": "code",
   "execution_count": 23,
   "id": "0c53c23c",
   "metadata": {},
   "outputs": [],
   "source": [
    "#### Creating LLM"
   ]
  },
  {
   "cell_type": "code",
   "execution_count": 200,
   "id": "d2577763",
   "metadata": {},
   "outputs": [],
   "source": [
    "def create_llm(PydanticParser=None, prompt=None, parser=None, model=None):\n",
    "\n",
    "    # Parser - pydantic\n",
    "    if not parser:\n",
    "        parser = PydanticOutputParser(pydantic_object=PydanticParser)\n",
    "\n",
    "    # Model - gemini\n",
    "    if not model:\n",
    "        model = ChatGoogleGenerativeAI(model=\"gemini-1.5-flash\")\n",
    "\n",
    "    # Prompt - pydantic based\n",
    "    if not prompt:\n",
    "        template = \"\"\"You are an assistant tasked with classifying data into one of these classes:[not related to USA, related to USA, related to usa but requires real time data].\n",
    "        Dont respond with anything other than from this these defined choices.\n",
    "        you have to classify according how can we answer this query or is it related on usa.\n",
    "        User query: {question}\n",
    "        \\n{format_instructions}\n",
    "        \"\"\"\n",
    "        prompt = PromptTemplate(\n",
    "            template=template,\n",
    "            input_variables=['question'],\n",
    "            partial_variables={'format_instructions': parser.get_format_instructions()}\n",
    "        )\n",
    "\n",
    "    llm = prompt | model | parser\n",
    "    return llm\n"
   ]
  },
  {
   "cell_type": "markdown",
   "id": "9932dd8a",
   "metadata": {},
   "source": [
    "## Creating Graph"
   ]
  },
  {
   "cell_type": "code",
   "execution_count": 201,
   "id": "8e66cacb",
   "metadata": {},
   "outputs": [],
   "source": [
    "from langgraph.graph import StateGraph, END"
   ]
  },
  {
   "cell_type": "code",
   "execution_count": 202,
   "id": "68daafaa",
   "metadata": {},
   "outputs": [],
   "source": [
    "from typing import TypedDict, Sequence,Annotated\n",
    "from langchain_core.messages import BaseMessage\n",
    "from langchain_core.output_parsers import StrOutputParser\n",
    "from langchain_core.prompts import PromptTemplate\n",
    "import operator"
   ]
  },
  {
   "cell_type": "markdown",
   "id": "554a325c",
   "metadata": {},
   "source": [
    "#### Creating state for graph"
   ]
  },
  {
   "cell_type": "code",
   "execution_count": 203,
   "id": "71348287",
   "metadata": {},
   "outputs": [],
   "source": [
    "class AgentState(TypedDict):\n",
    "    messages: Annotated[Sequence[BaseMessage], operator.add]\n",
    "    pipeline: str = None"
   ]
  },
  {
   "cell_type": "markdown",
   "id": "81b9e61f",
   "metadata": {},
   "source": [
    "#### Intializing graph"
   ]
  },
  {
   "cell_type": "code",
   "execution_count": 235,
   "id": "92fa7730",
   "metadata": {},
   "outputs": [],
   "source": [
    "workflow = StateGraph(AgentState)"
   ]
  },
  {
   "cell_type": "code",
   "execution_count": 236,
   "id": "44e9bb83",
   "metadata": {},
   "outputs": [],
   "source": [
    "def supervisor(state: AgentState):\n",
    "    print(\"supervisor fucntion\")\n",
    "    parser = PydanticOutputParser(pydantic_object=PydanticParser)\n",
    "    llm = create_llm(parser=parser)\n",
    "    question = state[\"messages\"][0]\n",
    "    response = llm.invoke({\"question\":question})\n",
    "    return {\"messages\": [response.classify]}"
   ]
  },
  {
   "cell_type": "code",
   "execution_count": 237,
   "id": "7037b8fe",
   "metadata": {},
   "outputs": [],
   "source": [
    "# supervisor(state)[\"messages\"][-1]"
   ]
  },
  {
   "cell_type": "code",
   "execution_count": 238,
   "id": "0598eeb8",
   "metadata": {},
   "outputs": [],
   "source": [
    "# {'messages': ['how to make json file',\n",
    "#   PydanticParser(classify='related to computer programing'),\n",
    "#   'how to make json file',\n",
    "#   PydanticParser(classify='related to computer programing'),\n",
    "#   \"I don't know how to make a JSON file.  The provided text is about the US economy.\",\n",
    "#   'how to make json file',\n",
    "#   PydanticParser(classify='related to computer programing'),\n",
    "#   'how to make json file',\n",
    "#   PydanticParser(classify='related to computer programing'),\n",
    "#   \"I don't know how to make a JSON file.  The provided text is about the US economy.\",\n",
    "#   'how to make json file',\n",
    "#   PydanticParser(classify='related to computer programing'),"
   ]
  },
  {
   "cell_type": "code",
   "execution_count": 239,
   "id": "52031c4a",
   "metadata": {},
   "outputs": [],
   "source": [
    "def router(state:AgentState):\n",
    "    print(\"router function\")\n",
    "    message = state[\"messages\"][-1]\n",
    "    # not related to USA, related to USA, requires real time data\n",
    "    if message == \"related to USA\":\n",
    "        return \"RAG Call\"\n",
    "    elif message ==  \"requires real time data\":\n",
    "        return \"Web Scrapper Call\"\n",
    "    else:\n",
    "        return \"LLM Call\""
   ]
  },
  {
   "cell_type": "code",
   "execution_count": 240,
   "id": "bc558afd",
   "metadata": {},
   "outputs": [],
   "source": [
    "def llm(state:AgentState):\n",
    "    print(\"llm function\")\n",
    "    message = state[\"messages\"][0]\n",
    "\n",
    "    # Parser\n",
    "    parser = StrOutputParser()\n",
    "\n",
    "    # Prompt\n",
    "    template = \"\"\"You are an assistant tasked with answering user query.\n",
    "    If you dont know the answer , just say that you don't know.\n",
    "    keep the answer consise.\n",
    "    \\nQuestion: {question}\n",
    "    \"\"\"\n",
    "    prompt = PromptTemplate(\n",
    "        template=template,\n",
    "        input_variables=['question'],\n",
    "    )\n",
    "    llm = create_llm(prompt=prompt, parser=parser)\n",
    "    response = llm.invoke(message)\n",
    "    return {\"messages\": [response]}\n",
    "\n",
    "    "
   ]
  },
  {
   "cell_type": "code",
   "execution_count": 241,
   "id": "7b282503",
   "metadata": {},
   "outputs": [],
   "source": [
    "def rag(state:AgentState):\n",
    "    print(\"rag function\")\n",
    "    message = state[\"messages\"][0]\n",
    "    state[\"messages\"].append(\"RAG\")\n",
    "    response = rag_chain.invoke(message)\n",
    "    return {\"messages\": [response]}\n",
    "    \n",
    "\n",
    "    "
   ]
  },
  {
   "cell_type": "code",
   "execution_count": 242,
   "id": "7d2115e9",
   "metadata": {},
   "outputs": [],
   "source": [
    "class OutputValidator(BaseModel):\n",
    "    rating : int=Field(description=\"QA relevance score out of 10\", gt=-1, lt=11)"
   ]
  },
  {
   "cell_type": "code",
   "execution_count": 243,
   "id": "5a88b17d",
   "metadata": {},
   "outputs": [],
   "source": [
    "def web_crawler(state:AgentState):\n",
    "    \n",
    "    print(\"web crawler function\")\n",
    "    return {\"messages\": [\"web_crawler\"]}"
   ]
  },
  {
   "cell_type": "code",
   "execution_count": 244,
   "id": "a5986c33",
   "metadata": {},
   "outputs": [],
   "source": [
    "def validation(state:AgentState):\n",
    "    question = state[\"messages\"][0]\n",
    "    latest_output = state[\"messages\"][-1]\n",
    "\n",
    "    template = \"\"\"you are an validating assistant tasked with give rating about answer relavance to question.\n",
    "    You have to give rating out of 10 .\n",
    "    If you are thinking answer is never matches with answer , you can give 0.\n",
    "    \\nAnswer: {answer}\n",
    "    \\nQuestion: {question}\n",
    "    \\n{format_instruction}\n",
    "    \"\"\"\n",
    "    parser = PydanticOutputParser(pydantic_object=OutputValidator)\n",
    "    prompt = PromptTemplate(\n",
    "        template=template,\n",
    "        input_variables=['answer', 'question'],\n",
    "        partial_variables={\"format_instruction\": parser.get_format_instructions()}  \n",
    "    )\n",
    "    llm = create_llm(prompt=prompt, parser=parser)\n",
    "\n",
    "    response = llm.invoke({\"question\":question, \"answer\":latest_output})\n",
    "    print(\"validation function\", response.rating)\n",
    "    return {\"messages\": [f\"Validated with rating {response.rating}\"]}"
   ]
  },
  {
   "cell_type": "code",
   "execution_count": 245,
   "id": "546f96a1",
   "metadata": {},
   "outputs": [],
   "source": [
    "def validate_output(state:AgentState):\n",
    "    last_message = state[\"messages\"][-1]\n",
    "    rating = last_message.split()[-1].strip()\n",
    "    if rating.isdigit():\n",
    "        rating = int(rating)\n",
    "        if rating < 7:\n",
    "            state[\"messages\"].append(\"\")\n",
    "            return \"False\"\n",
    "        else :\n",
    "            return \"True\""
   ]
  },
  {
   "cell_type": "code",
   "execution_count": 246,
   "id": "cb9300bd",
   "metadata": {},
   "outputs": [],
   "source": [
    "def final_output(state:AgentState):\n",
    "    print(\"final output function\")\n",
    "    return {\"messages\": [\"completed\"]}"
   ]
  },
  {
   "cell_type": "code",
   "execution_count": 247,
   "id": "56cc0f3f",
   "metadata": {},
   "outputs": [
    {
     "data": {
      "text/plain": [
       "<langgraph.graph.state.StateGraph at 0x1f96a815370>"
      ]
     },
     "execution_count": 247,
     "metadata": {},
     "output_type": "execute_result"
    }
   ],
   "source": [
    "workflow.add_node(\"Supervisor\", supervisor)"
   ]
  },
  {
   "cell_type": "code",
   "execution_count": 248,
   "id": "3e813091",
   "metadata": {},
   "outputs": [
    {
     "data": {
      "text/plain": [
       "<langgraph.graph.state.StateGraph at 0x1f96a815370>"
      ]
     },
     "execution_count": 248,
     "metadata": {},
     "output_type": "execute_result"
    }
   ],
   "source": [
    "workflow.add_node(\"LLM\", llm)\n",
    "workflow.add_node(\"RAG\", rag)\n",
    "workflow.add_node(\"Web Crawler\", web_crawler)"
   ]
  },
  {
   "cell_type": "code",
   "execution_count": 249,
   "id": "fc221e4f",
   "metadata": {},
   "outputs": [
    {
     "data": {
      "text/plain": [
       "<langgraph.graph.state.StateGraph at 0x1f96a815370>"
      ]
     },
     "execution_count": 249,
     "metadata": {},
     "output_type": "execute_result"
    }
   ],
   "source": [
    "workflow.add_node(\"Validation\", validation)"
   ]
  },
  {
   "cell_type": "code",
   "execution_count": 250,
   "id": "b9312c48",
   "metadata": {},
   "outputs": [
    {
     "data": {
      "text/plain": [
       "<langgraph.graph.state.StateGraph at 0x1f96a815370>"
      ]
     },
     "execution_count": 250,
     "metadata": {},
     "output_type": "execute_result"
    }
   ],
   "source": [
    "workflow.add_node(\"Final Output\", final_output)"
   ]
  },
  {
   "cell_type": "code",
   "execution_count": null,
   "id": "5758e34a",
   "metadata": {},
   "outputs": [],
   "source": []
  },
  {
   "cell_type": "code",
   "execution_count": 251,
   "id": "57094b40",
   "metadata": {},
   "outputs": [
    {
     "data": {
      "text/plain": [
       "<langgraph.graph.state.StateGraph at 0x1f96a815370>"
      ]
     },
     "execution_count": 251,
     "metadata": {},
     "output_type": "execute_result"
    }
   ],
   "source": [
    "workflow.add_conditional_edges(\n",
    "    \"Supervisor\",\n",
    "    router, \n",
    "    {\n",
    "        \"LLM Call\": \"LLM\",\n",
    "        \"RAG Call\": \"RAG\",\n",
    "        \"Web Crawler Call\": \"Web Crawler\"\n",
    "    }\n",
    ")"
   ]
  },
  {
   "cell_type": "code",
   "execution_count": 252,
   "id": "232ab02b",
   "metadata": {},
   "outputs": [
    {
     "data": {
      "text/plain": [
       "<langgraph.graph.state.StateGraph at 0x1f96a815370>"
      ]
     },
     "execution_count": 252,
     "metadata": {},
     "output_type": "execute_result"
    }
   ],
   "source": [
    "workflow.add_edge(\"LLM\", \"Validation\")\n",
    "workflow.add_edge(\"RAG\", \"Validation\")\n",
    "workflow.add_edge(\"Web Crawler\", \"Validation\")"
   ]
  },
  {
   "cell_type": "code",
   "execution_count": 253,
   "id": "121d7582",
   "metadata": {},
   "outputs": [
    {
     "data": {
      "text/plain": [
       "<langgraph.graph.state.StateGraph at 0x1f96a815370>"
      ]
     },
     "execution_count": 253,
     "metadata": {},
     "output_type": "execute_result"
    }
   ],
   "source": [
    "workflow.add_conditional_edges(\n",
    "    \"Validation\",\n",
    "    validate_output,\n",
    "    {\n",
    "        \"False\": \"Supervisor\",\n",
    "        \"True\": \"Final Output\"\n",
    "        \n",
    "    }\n",
    ")"
   ]
  },
  {
   "cell_type": "code",
   "execution_count": 254,
   "id": "50963a39",
   "metadata": {},
   "outputs": [
    {
     "data": {
      "text/plain": [
       "<langgraph.graph.state.StateGraph at 0x1f96a815370>"
      ]
     },
     "execution_count": 254,
     "metadata": {},
     "output_type": "execute_result"
    }
   ],
   "source": [
    "workflow.set_entry_point(\"Supervisor\")\n",
    "# workflow.set_finish_point(\"Final Output\")"
   ]
  },
  {
   "cell_type": "code",
   "execution_count": 255,
   "id": "57a90ea4",
   "metadata": {},
   "outputs": [
    {
     "data": {
      "text/plain": [
       "<langgraph.graph.state.StateGraph at 0x1f96a815370>"
      ]
     },
     "execution_count": 255,
     "metadata": {},
     "output_type": "execute_result"
    }
   ],
   "source": [
    "workflow.add_edge(\"Final Output\", END)"
   ]
  },
  {
   "cell_type": "code",
   "execution_count": 256,
   "id": "9d145ac0",
   "metadata": {},
   "outputs": [],
   "source": [
    "app = workflow.compile()"
   ]
  },
  {
   "cell_type": "code",
   "execution_count": 257,
   "id": "0e03161c",
   "metadata": {},
   "outputs": [
    {
     "data": {
      "image/png": "[encoded data removed]",
      "text/plain": [
       "<langgraph.graph.state.CompiledStateGraph object at 0x000001F96A815BF0>"
      ]
     },
     "execution_count": 257,
     "metadata": {},
     "output_type": "execute_result"
    }
   ],
   "source": [
    "app"
   ]
  },
  {
   "cell_type": "code",
   "execution_count": 258,
   "id": "b94abb6f",
   "metadata": {},
   "outputs": [
    {
     "name": "stdout",
     "output_type": "stream",
     "text": [
      "supervisor fucntion\n",
      "router function\n",
      "rag function\n",
      "validation function 0\n",
      "supervisor fucntion\n",
      "router function\n",
      "rag function\n",
      "validation function 0\n",
      "supervisor fucntion\n",
      "router function\n",
      "rag function\n",
      "validation function 10\n",
      "final output function\n"
     ]
    },
    {
     "data": {
      "text/plain": [
       "{'messages': ['is there any war ongoing on USA',\n",
       "  'related to USA',\n",
       "  'RAG',\n",
       "  \"I don't know.  The provided text only gives an overview of the U.S. economy and doesn't mention any ongoing wars.\",\n",
       "  'Validated with rating 0',\n",
       "  'related to USA',\n",
       "  'RAG',\n",
       "  \"The provided text only gives an overview of the U.S. economy and doesn't mention any ongoing wars.  I don't know.\",\n",
       "  'Validated with rating 0',\n",
       "  'related to USA',\n",
       "  'RAG',\n",
       "  \"The provided text does not contain information about ongoing wars in the USA.  I don't know.\",\n",
       "  'Validated with rating 10',\n",
       "  'completed']}"
      ]
     },
     "execution_count": 258,
     "metadata": {},
     "output_type": "execute_result"
    }
   ],
   "source": [
    "state = {\"messages\": [\"is there any war ongoing on USA\"]}\n",
    "result = app.invoke(state)\n",
    "result"
   ]
  },
  {
   "cell_type": "code",
   "execution_count": 259,
   "id": "8a7ad6f8",
   "metadata": {},
   "outputs": [],
   "source": [
    "import json\n",
    "with open(\"output.json\", \"w\", encoding=\"utf-8\") as f:\n",
    "    json.dump(result, f, ensure_ascii=False, indent=2)"
   ]
  },
  {
   "cell_type": "code",
   "execution_count": 260,
   "id": "07a03da4",
   "metadata": {},
   "outputs": [
    {
     "data": {
      "text/plain": [
       "{'messages': ['is there any war ongoing on USA']}"
      ]
     },
     "execution_count": 260,
     "metadata": {},
     "output_type": "execute_result"
    }
   ],
   "source": [
    "state"
   ]
  }
 ],
 "metadata": {
  "kernelspec": {
   "display_name": "Python 3",
   "language": "python",
   "name": "python3"
  },
  "language_info": {
   "codemirror_mode": {
    "name": "ipython",
    "version": 3
   },
   "file_extension": ".py",
   "mimetype": "text/x-python",
   "name": "python",
   "nbconvert_exporter": "python",
   "pygments_lexer": "ipython3",
   "version": "3.13.0"
  }
 },
 "nbformat": 4,
 "nbformat_minor": 5
}
